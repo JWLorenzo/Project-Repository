{
  "nbformat": 4,
  "nbformat_minor": 0,
  "metadata": {
    "colab": {
      "provenance": []
    },
    "kernelspec": {
      "name": "python3",
      "display_name": "Python 3"
    },
    "language_info": {
      "name": "python"
    }
  },
  "cells": [
    {
      "cell_type": "code",
      "execution_count": null,
      "metadata": {
        "id": "eleS8R6oll7L"
      },
      "outputs": [],
      "source": [
        "import unittest\n",
        "\n",
        "exampleList = ['J','a','c','o','b']\n",
        "\n",
        "#This is the function that reverses the given list where the given list is the argument List\n",
        "def ReverseString(List):\n",
        "  i = 0\n",
        "  j = len(List) - 1\n",
        "  \n",
        "#Verifies that the list isn't empty before continuing\n",
        "  if len(List) == 0:\n",
        "    return List\n",
        "\n",
        "#While loop switches the characters until they pass the middlepoint\n",
        "  while (i<j):\n",
        "    SwitchCharacters(List, i, j)\n",
        "    i = i+1\n",
        "    j = j-1\n",
        "\n",
        "  return List\n",
        "\n",
        "#This function stores i in a temporary variable, then replaces i with j in the list, using the temporary variable j is replaced with i\n",
        "def SwitchCharacters(List, i, j):\n",
        "  temporaryIndex = List[i]\n",
        "  List[i] = List[j]\n",
        "  List[j] = temporaryIndex\n",
        "\n"
      ]
    },
    {
      "cell_type": "code",
      "source": [
        "print(ReverseString(exampleList))"
      ],
      "metadata": {
        "colab": {
          "base_uri": "https://localhost:8080/"
        },
        "id": "hD1T4zKQoOXn",
        "outputId": "37e67a5d-4cee-4878-d209-d2284fe71456"
      },
      "execution_count": null,
      "outputs": [
        {
          "output_type": "stream",
          "name": "stdout",
          "text": [
            "['b', 'o', 'c', 'a', 'J']\n"
          ]
        }
      ]
    },
    {
      "cell_type": "code",
      "source": [
        "#These unit tests ensure that the program is functioning properly \n",
        "\n",
        "class TestReverse(unittest.TestCase):\n",
        "\n",
        "#This passes a blank function to see if the empty list verification functions\n",
        "  def test_blank(self):\n",
        "    self.assertEqual([\"\"],ReverseString([\"\"]))\n",
        "\n",
        "#This checks to make sure that the outputs are the same for the example string\n",
        "  def test_name(self):\n",
        "    self.assertEqual(['b','o','c','a','J'],ReverseString(['J','a','c','o','b']))\n",
        "\n",
        "#This checks to verify that palindromes function properly within the function\n",
        "  def test_palindrome(self):\n",
        "    self.assertEqual(['t','a','c','o','c','a','t'], ReverseString(['t','a','c','o','c','a','t']))\n",
        "\n",
        "#This checks to see if a list of the same character functions properly\n",
        "  def test_same_char(self):\n",
        "    self.assertEqual(['z', 'z', 'z'],ReverseString(['z', 'z', 'z']))\n",
        "\n",
        "#This checks to ensure that passing the list backwards yields the initial result\n",
        "  def test_reverse_name(self):\n",
        "    self.assertEqual(['J','a','c','o','b'], ReverseString(['b','o','c','a','J']))"
      ],
      "metadata": {
        "id": "BYTA-t-HpFu_"
      },
      "execution_count": null,
      "outputs": []
    },
    {
      "cell_type": "code",
      "source": [
        "unittest.main(argv=[''], verbosity=2, exit=False)"
      ],
      "metadata": {
        "colab": {
          "base_uri": "https://localhost:8080/"
        },
        "id": "8LGZzH4srPzK",
        "outputId": "a4ca008d-ead4-44aa-8173-f5c2fbd1776b"
      },
      "execution_count": null,
      "outputs": [
        {
          "output_type": "stream",
          "name": "stderr",
          "text": [
            "test_blank (__main__.TestReverse) ... ok\n",
            "test_name (__main__.TestReverse) ... ok\n",
            "test_palindrome (__main__.TestReverse) ... ok\n",
            "test_reverse_name (__main__.TestReverse) ... ok\n",
            "test_same_char (__main__.TestReverse) ... ok\n",
            "\n",
            "----------------------------------------------------------------------\n",
            "Ran 5 tests in 0.014s\n",
            "\n",
            "OK\n"
          ]
        },
        {
          "output_type": "execute_result",
          "data": {
            "text/plain": [
              "<unittest.main.TestProgram at 0x7f89b0df9670>"
            ]
          },
          "metadata": {},
          "execution_count": 45
        }
      ]
    },
    {
      "cell_type": "markdown",
      "source": [],
      "metadata": {
        "id": "GSZTmIy8qyG6"
      }
    }
  ]
}